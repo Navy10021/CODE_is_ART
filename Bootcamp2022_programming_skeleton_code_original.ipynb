{
 "cells": [
  {
   "cell_type": "markdown",
   "metadata": {
    "id": "yby-S4kAfVq_"
   },
   "source": [
    "#Bootcamp 2022 Programming Test\n",
    "\n",
    "파일 이름은 {이름}\\_{학번}.ipynb 형식으로 수정하여 (예. 홍길동_2022-12345.ipynb), 시험 종료 시간 전에 eTL 상단의 '실기시험(코딩)' 과제함에 제출해주세요. \n"
   ]
  },
  {
   "cell_type": "code",
   "execution_count": null,
   "metadata": {
    "colab": {
     "base_uri": "https://localhost:8080/"
    },
    "id": "WEOB0YfVBijy",
    "outputId": "a6c0ded5-df75-4e49-f3c1-54fac1b0e216"
   },
   "outputs": [
    {
     "name": "stdout",
     "output_type": "stream",
     "text": [
      "Python 3.7.12\n"
     ]
    }
   ],
   "source": [
    "!python --version"
   ]
  },
  {
   "cell_type": "markdown",
   "metadata": {
    "id": "vDbY3TO9ge9N"
   },
   "source": [
    "## Problem 1.\n",
    "\n",
    "Write a function that rotates a given matrix 90 degrees clockwise. A matrix is represented as a list of lists where each inner list represents a row. (Note that an empty matrix is just a list)"
   ]
  },
  {
   "cell_type": "code",
   "execution_count": null,
   "metadata": {
    "id": "E1FyJduIe_Zy"
   },
   "outputs": [],
   "source": [
    "from typing import List\n",
    "\n",
    "\n",
    "def rotated(matrix: List[List[int]]) -> List[List[int]]:\n",
    "  # write the function here\n",
    "  ...\n"
   ]
  },
  {
   "cell_type": "code",
   "execution_count": null,
   "metadata": {
    "id": "MBVh6y63p6iu"
   },
   "outputs": [],
   "source": [
    "# Examples\n",
    "input = [[1, 2],\n",
    "         [3, 4]]\n",
    "expected = [[3, 1],\n",
    "            [4, 2]]\n",
    "print(expected == rotated(input))\n",
    "\n",
    "input = [[1, 2, 3],\n",
    "         [4, 5, 6]]\n",
    "expected = [[4, 1],\n",
    "            [5, 2],\n",
    "            [6, 3]]\n",
    "print(expected == rotated(input))\n",
    "# a special case: an empty matrix (no row)\n",
    "print(rotated([]) == [])\n",
    "# singleton\n",
    "print(rotated([[9000]]) == [[9000]])\n",
    "# row\n",
    "print(rotated([[1, 2]]) ==\n",
    "      [[1],\n",
    "       [2]])\n",
    "# column\n",
    "print(rotated([[1],\n",
    "               [2]]) ==\n",
    "      [[2, 1]])"
   ]
  },
  {
   "cell_type": "markdown",
   "metadata": {
    "id": "5w7edOr8oQ1A"
   },
   "source": [
    "## Problem 2.\n",
    "\n",
    "Given a dictionary with integer keys and values, write a function `inversed` that returns the inverse of the given dictionary.\n",
    "The output is a dictionary containing information which value is associated with which keys in the original dictionary. An example is shown below:\n",
    "\n",
    "```python\n",
    "inversed({1: 2, 3: 2, 4: 3}) == {2: [1, 3], 3: [4]}\n",
    "```\n",
    "As you can see, there can be multiple keys associated with a single value in the given dictionary. Hence, the type of value in the resulting dictionary is a list of integers.\n",
    "\n",
    "Make sure that the resulting dictionary is sorted with respect to both keys and values (assume Python version 3.7 or later.) See more examples below."
   ]
  },
  {
   "cell_type": "code",
   "execution_count": null,
   "metadata": {
    "id": "XtkEVHXQfbge"
   },
   "outputs": [],
   "source": [
    "def inversed(d: dict) -> dict:\n",
    "  # write the function here\n",
    "  ..."
   ]
  },
  {
   "cell_type": "code",
   "execution_count": null,
   "metadata": {
    "id": "XpW_oQTPoxRI"
   },
   "outputs": [],
   "source": [
    "print(inversed({1: 2}) == {2: [1]})\n",
    "print(inversed({1: 2, 3: 2, 4: 3}) == {2: [1, 3], 3: [4]})\n",
    "print(inversed({5: 4, 10: 2, 7: 2, 3: 4}) == {2: [7, 10], 4: [3, 5]})\n",
    "print(inversed({4: 3, 5: 2, 1: 2, 2: 3, 3: 4}) == {2: [1, 5], 3: [2, 4], 4: [3]})\n",
    "print(inversed({9: 2, 4: 3, 5: 2, 1: 2, 2: 3, 3: 4}) == {2: [1, 5, 9], 3: [2, 4], 4: [3]})"
   ]
  },
  {
   "cell_type": "markdown",
   "metadata": {
    "id": "QzdBH48-qC6r"
   },
   "source": [
    "## Problem 3.\n",
    "\n",
    "Consider a collection of preferences, e.g., a < b, b < d, b < c, among items a, b, c, and d. A researcher wants to compute a sequence which respects every preference, e.g., `[a,b,c,d]` or `[a,b,d,c]` in the above case. Another example is `[a, c, b]` or `[c, a, b]` given a < b and c < b.\n",
    "\n",
    "Write a function `ordered` which takes the collection of preferences among single letters as a dictionary such that a key is an item and its associated value is a list of items that are larger (preferred) than the key. For example,\n",
    "\n",
    "'a' < 'b', 'b' < 'd', and 'b' < 'c' is represented as `{'a': ['b'], 'b': ['c', 'd']}`\n",
    "\n",
    "Note that you can assume that such sequence always exists for the given input. (no inconsistent input, e.g., `{'a':['b'], 'b':['a']}`)\n",
    "\n",
    "Your algorithm should not run in exponential time (e.g., trying all permutations, etc.)"
   ]
  },
  {
   "cell_type": "code",
   "execution_count": null,
   "metadata": {
    "id": "MO78-R56qROE"
   },
   "outputs": [],
   "source": [
    "def ordered(d: dict) -> list:\n",
    "  # write the function here\n",
    "  ..."
   ]
  },
  {
   "cell_type": "code",
   "execution_count": null,
   "metadata": {
    "id": "_ocGmuGiBIn-"
   },
   "outputs": [],
   "source": [
    "# This checks whether your ordered function is correctly implemented.\n",
    "def order_check(d):\n",
    "    copied_d = {k: list(vs) for k, vs in d.items()}\n",
    "    output = ordered(copied_d)\n",
    "    try:\n",
    "        all_elems = set(d.keys())\n",
    "        for vs in d.values():\n",
    "            all_elems |= set(vs)\n",
    "        assert isinstance(output, list), \"output is not a list\"\n",
    "        assert len(output) == len(set(output)) == len(\n",
    "            all_elems), f\"Either all elemements are not in the output or there are duplicates in the output: {output}, {set(output)}, {all_elems}\"\n",
    "\n",
    "        elem_at = {elem: i for i, elem in enumerate(output)}\n",
    "        for k, vs in d.items():\n",
    "            for v in vs:\n",
    "                assert elem_at[k] < elem_at[v], f\"{k} < {v} is violated since {elem_at[k]} > {elem_at[v]}\"\n",
    "        print(f\"correct for {d}\")\n",
    "    except AssertionError as e:\n",
    "        print(f\"wrong output {output} for {d}: {e}\")\n",
    "\n",
    "order_check({'z': []})\n",
    "order_check({'a': ['b']})\n",
    "order_check({'a': ['b'], 'b': ['c', 'd']})\n",
    "order_check({'a': ['b'], 'c': ['b']})\n",
    "order_check({'a':['b','c','e'], 'b':['d'], 'c':['d','g'], 'd': ['h'], 'e':['c','f'],'f':['g'], 'g':['h'], 'i':[]})"
   ]
  },
  {
   "cell_type": "markdown",
   "metadata": {
    "id": "jaZmvYtqfJ62"
   },
   "source": [
    "## Problem 4.\n",
    "\n",
    "Write a function to compute the largest difference between any ancestor and one of its descendants in a binary tree. The difference is defined as the absolute difference, regardless of the order. A node itself is its own ancestor, and at the same time, a descendant of itself as well. \n",
    "\n",
    "(We do not guarantee to run unreasonably inefficient codes for grading. Please make sure your program does not crash or fall into infinite loop!)\n"
   ]
  },
  {
   "cell_type": "code",
   "execution_count": null,
   "metadata": {
    "id": "cfcg7CW5eOSc"
   },
   "outputs": [],
   "source": [
    "class TreeNode:\n",
    "  def __init__(self, val, left=None, right=None):\n",
    "    self.item = val\n",
    "    self.left = left\n",
    "    self.right = right\n",
    "\n",
    "def LargestDifference(root):\n",
    "  # Test example:\n",
    "  #   tree = TreeNode(3, TreeNode(7, TreeNode(2), None), None)\n",
    "  #   LargestDifference(tree) --> should output 5\n",
    "\n",
    "  \"\"\" (START) Implement this function (START) \"\"\"\n",
    "\n",
    "\n",
    "\n",
    "\n",
    "  \"\"\" (END) Implement this function (END) \"\"\"\n"
   ]
  },
  {
   "cell_type": "code",
   "execution_count": null,
   "metadata": {
    "id": "RDMgrSEnnBjk"
   },
   "outputs": [],
   "source": [
    "p1 = TreeNode(3, TreeNode(7, TreeNode(2), None), TreeNode(15, TreeNode(6), TreeNode(-1)))\n",
    "print(LargestDifference(p1)) # the answer is 16.\n"
   ]
  },
  {
   "cell_type": "code",
   "execution_count": null,
   "metadata": {
    "id": "mBJy0pFbfCeH"
   },
   "outputs": [],
   "source": []
  }
 ],
 "metadata": {
  "colab": {
   "collapsed_sections": [],
   "name": "Bootcamp2022_programming_skeleton_code.ipynb",
   "provenance": []
  },
  "kernelspec": {
   "display_name": "Python 3 (ipykernel)",
   "language": "python",
   "name": "python3"
  },
  "language_info": {
   "codemirror_mode": {
    "name": "ipython",
    "version": 3
   },
   "file_extension": ".py",
   "mimetype": "text/x-python",
   "name": "python",
   "nbconvert_exporter": "python",
   "pygments_lexer": "ipython3",
   "version": "3.9.12"
  }
 },
 "nbformat": 4,
 "nbformat_minor": 1
}
